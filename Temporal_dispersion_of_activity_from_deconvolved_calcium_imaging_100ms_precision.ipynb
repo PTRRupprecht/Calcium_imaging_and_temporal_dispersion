{
  "nbformat": 4,
  "nbformat_minor": 0,
  "metadata": {
    "colab": {
      "name": "Temporal dispersion of activity from deconvolved calcium imaging.ipynb",
      "provenance": [],
      "authorship_tag": "ABX9TyO5NtK9UeNtnS0xJgH0wzlp",
      "include_colab_link": true
    },
    "kernelspec": {
      "name": "python3",
      "display_name": "Python 3"
    },
    "accelerator": "GPU"
  },
  "cells": [
    {
      "cell_type": "markdown",
      "metadata": {
        "id": "view-in-github",
        "colab_type": "text"
      },
      "source": [
        "<a href=\"https://colab.research.google.com/github/PTRRupprecht/Calcium_imaging_and_temporal_dispersion/blob/main/Temporal_dispersion_of_activity_from_deconvolved_calcium_imaging_100ms_precision.ipynb\" target=\"_parent\"><img src=\"https://colab.research.google.com/assets/colab-badge.svg\" alt=\"Open In Colab\"/></a>"
      ]
    },
    {
      "cell_type": "markdown",
      "metadata": {
        "id": "8mYc2wuNRdpQ"
      },
      "source": [
        "# **Temporal dispersion of activity from deconvolved calcium imaging**\n",
        "\n",
        "\n",
        "Calcium imaging is temporally less precise than electrophysiology. [A recent study by Wei et al. (2020)](https://journals.plos.org/ploscompbiol/article?id=10.1371/journal.pcbi.1008198) showed that under the investigated imaging conditions, neuronal activity that appeared to have more or less clearly defined bouts from electrophysiological recordings appeared to be more continuous (like a smooth sequence) from calcium imaging data, even if those were deconvolved.\n",
        "\n",
        "Is this indeed not possible to clearly distinguish smooth sequential activity patterns from more discrete bouts using calcium imaging? The short answer is, no; it is possible, under certain conditions.\n",
        "\n",
        "I have described my approach to this question on this blog post. This Colaboratory Notebook is just a supplementary material to this blog posts, allowing any interested reader to replicate the analysis and to add their own analysis.\n",
        "\n",
        "Briefly, the Notebook downloads the [Cascade](https://github.com/HelmchenLabSoftware/Cascade) toolbox into the Cloud-based environment, loads an appropriate global model [see the (preprint](https://www.biorxiv.org/content/10.1101/2020.08.31.272450v2), Fig. 3, for a description of this global model), uses one of the ground truth datasets to generate ground truth at a given noise level and then evaluates the dispersion of inferred spike rates in comparison to the ground truth."
      ]
    },
    {
      "cell_type": "markdown",
      "metadata": {
        "id": "DPJIQPSkReDW"
      },
      "source": [
        "##1. Download repository into the Colab Notebook"
      ]
    },
    {
      "cell_type": "code",
      "metadata": {
        "cellView": "form",
        "colab": {
          "base_uri": "https://localhost:8080/"
        },
        "id": "b83SfFzTRByJ",
        "outputId": "36157d49-0e4b-4296-d32a-1c49354d9cf8"
      },
      "source": [
        "#@markdown The Github repository with all custom functions, the ground truth datasets and the pretrained models is copied to the environment of this notebook. This will take a couple of seconds.\n",
        "\n",
        "#@markdown *Note: You can check the code underlying each cell by double-clicking on it.*\n",
        "\n",
        "import os\n",
        "\n",
        "# If in Colab and not yet downloaded, download GitHub repository and change working directory\n",
        "if os.getcwd() == '/content':  \n",
        "    !git clone https://github.com/HelmchenLabSoftware/Cascade\n",
        "    os.chdir('Cascade')\n",
        "    \n",
        "# If executed as jupyter notebook on own computer, change to parent directory for imports\n",
        "if os.path.basename( os.getcwd() ) == 'Demo scripts':\n",
        "    %cd ..\n",
        "    print('New working directory:', os.getcwd() )"
      ],
      "execution_count": 1,
      "outputs": [
        {
          "output_type": "stream",
          "text": [
            "Cloning into 'Cascade'...\n",
            "remote: Enumerating objects: 116, done.\u001b[K\n",
            "remote: Counting objects: 100% (116/116), done.\u001b[K\n",
            "remote: Compressing objects: 100% (116/116), done.\u001b[K\n",
            "remote: Total 2392 (delta 65), reused 0 (delta 0), pack-reused 2276\u001b[K\n",
            "Receiving objects: 100% (2392/2392), 215.98 MiB | 45.94 MiB/s, done.\n",
            "Resolving deltas: 100% (614/614), done.\n"
          ],
          "name": "stdout"
        }
      ]
    },
    {
      "cell_type": "markdown",
      "metadata": {
        "id": "3jal4eQ7RVUC"
      },
      "source": [
        "##2. Import required python packages"
      ]
    },
    {
      "cell_type": "code",
      "metadata": {
        "cellView": "form",
        "id": "QzATHUFlRFL-"
      },
      "source": [
        "#@markdown Downloads packages from public repository, and packages from Cascade.\n",
        "\n",
        "%%capture\n",
        "!pip install ruamel.yaml\n",
        "\n",
        "# standard python packages\n",
        "import os, warnings\n",
        "import glob\n",
        "import numpy as np\n",
        "import scipy.io as sio\n",
        "import matplotlib.pyplot as plt\n",
        "import ruamel.yaml as yaml\n",
        "\n",
        "# cascade2p packages, imported from the downloaded Github repository\n",
        "from cascade2p import checks\n",
        "checks.check_packages()\n",
        "from cascade2p import cascade # local folder\n",
        "from cascade2p.utils import plot_dFF_traces, plot_noise_level_distribution, plot_noise_matched_ground_truth"
      ],
      "execution_count": 2,
      "outputs": []
    },
    {
      "cell_type": "markdown",
      "metadata": {
        "id": "AwCtYctqSACV"
      },
      "source": [
        "##3. Select a good pretrained model"
      ]
    },
    {
      "cell_type": "code",
      "metadata": {
        "colab": {
          "base_uri": "https://localhost:8080/"
        },
        "cellView": "form",
        "id": "ofDn65hkRytj",
        "outputId": "f2e4d1fb-bba9-4121-b57a-6ab72e2feef9"
      },
      "source": [
        "#@markdown Gets a list of all available models.\n",
        "\n",
        "cascade.download_model( 'update_models',verbose = 1)\n",
        "\n",
        "yaml_file = open('Pretrained_models/available_models.yaml')\n",
        "X = yaml.load(yaml_file, Loader=yaml.Loader)\n",
        "list_of_models = list(X.keys())\n",
        "print('\\n List of available models: \\n')\n",
        "for model in list_of_models:\n",
        "    print(model)"
      ],
      "execution_count": 3,
      "outputs": [
        {
          "output_type": "stream",
          "text": [
            "You can now check the updated available_models.yaml file for valid model names.\n",
            "File location: /content/Cascade/Pretrained_models/available_models.yaml\n",
            "\n",
            " List of available models: \n",
            "\n",
            "GCaMP6f_mouse_30Hz_smoothing200ms\n",
            "OGB_zf_pDp_7.5Hz_smoothing200ms\n",
            "Global_EXC_5Hz_smoothing200ms\n",
            "Global_EXC_5Hz_smoothing200ms_causalkernel\n",
            "Global_EXC_6Hz_smoothing200ms\n",
            "Global_EXC_6Hz_smoothing200ms_causalkernel\n",
            "Global_EXC_7.5Hz_smoothing200ms\n",
            "Global_EXC_7.5Hz_smoothing200ms_causalkernel\n",
            "Global_EXC_10Hz_smoothing100ms\n",
            "Global_EXC_10Hz_smoothing100ms_causalkernel\n",
            "Global_EXC_10Hz_smoothing200ms\n",
            "Global_EXC_10Hz_smoothing200ms_causalkernel\n",
            "Global_EXC_12.5Hz_smoothing100ms\n",
            "Global_EXC_12.5Hz_smoothing100ms_causalkernel\n",
            "Global_EXC_12.5Hz_smoothing200ms\n",
            "Global_EXC_12.5Hz_smoothing200ms_causalkernel\n",
            "Global_EXC_15Hz_smoothing100ms\n",
            "Global_EXC_15Hz_smoothing100ms_causalkernel\n",
            "Global_EXC_15Hz_smoothing200ms\n",
            "Global_EXC_15Hz_smoothing200ms_causalkernel\n",
            "Global_EXC_17.5Hz_smoothing100ms\n",
            "Global_EXC_17.5Hz_smoothing200ms\n",
            "Global_EXC_17.5Hz_smoothing200ms_causalkernel\n",
            "Global_EXC_20Hz_smoothing100ms\n",
            "Global_EXC_20Hz_smoothing100ms_causalkernel\n",
            "Global_EXC_20Hz_smoothing200ms\n",
            "Global_EXC_20Hz_smoothing200ms_causalkernel\n",
            "Global_EXC_25Hz_smoothing100ms\n",
            "Global_EXC_25Hz_smoothing100ms_causalkernel\n",
            "Global_EXC_25Hz_smoothing50ms\n",
            "Global_EXC_25Hz_smoothing50ms_causalkernel\n",
            "Global_EXC_30Hz_smoothing100ms\n",
            "Global_EXC_30Hz_smoothing100ms_causalkernel\n",
            "Global_EXC_30Hz_smoothing200ms\n",
            "Global_EXC_30Hz_smoothing50ms\n",
            "Global_EXC_30Hz_smoothing50ms_causalkernel\n",
            "Global_INH_15Hz_smoothing100ms\n",
            "Global_INH_30Hz_smoothing50ms\n",
            "Global_INH_30Hz_smoothing100ms\n"
          ],
          "name": "stdout"
        }
      ]
    },
    {
      "cell_type": "code",
      "metadata": {
        "colab": {
          "base_uri": "https://localhost:8080/"
        },
        "id": "SMFg1WgoSJoC",
        "outputId": "41a07f02-fa40-4cf6-aaf5-ba2431765ba9"
      },
      "source": [
        "model_name = 'Global_EXC_30Hz_smoothing50ms'\n",
        "\n",
        "cascade.download_model( model_name,verbose = 1)"
      ],
      "execution_count": 4,
      "outputs": [
        {
          "output_type": "stream",
          "text": [
            "Downloading and extracting new model \"Global_EXC_30Hz_smoothing50ms\"...\n",
            "Pretrained model was saved in folder \"/content/Cascade/Pretrained_models/Global_EXC_30Hz_smoothing50ms\"\n"
          ],
          "name": "stdout"
        }
      ]
    },
    {
      "cell_type": "markdown",
      "metadata": {
        "id": "uyVOQ0OaSRm5"
      },
      "source": [
        "##4. Resample ground truth at a given noise level"
      ]
    },
    {
      "cell_type": "code",
      "metadata": {
        "colab": {
          "base_uri": "https://localhost:8080/",
          "height": 35
        },
        "cellView": "form",
        "id": "bfiKdLo2SbfP",
        "outputId": "cdd3e798-dde7-4972-ae31-2348be687a54"
      },
      "source": [
        "#@markdown Selects one of the ground truth datasets (GCaMP6f from Chen et al., 2013).\n",
        "\n",
        "from cascade2p import utils\n",
        "\n",
        "ground_truth_folders = glob.glob('Ground_truth/*')\n",
        "ground_truth_folder = 'Ground_truth/DS09-GCaMP6f-m-V1'\n",
        "ground_truth_folder"
      ],
      "execution_count": 5,
      "outputs": [
        {
          "output_type": "execute_result",
          "data": {
            "application/vnd.google.colaboratory.intrinsic+json": {
              "type": "string"
            },
            "text/plain": [
              "'Ground_truth/DS09-GCaMP6f-m-V1'"
            ]
          },
          "metadata": {
            "tags": []
          },
          "execution_count": 5
        }
      ]
    },
    {
      "cell_type": "code",
      "metadata": {
        "id": "4BJzZSILTAqE"
      },
      "source": [
        "noise_level = 2.0\n",
        "frame_rate = 30.0"
      ],
      "execution_count": 7,
      "outputs": []
    },
    {
      "cell_type": "code",
      "metadata": {
        "colab": {
          "base_uri": "https://localhost:8080/"
        },
        "cellView": "form",
        "id": "7TuGDGMATC4Q",
        "outputId": "56940617-48f3-45e0-ae23-cbe1c3f2508c"
      },
      "source": [
        "#@markdown Resample the ground truth dataset to a given noise level and frame rate.\n",
        "\n",
        "[X,Y] = utils.preprocess_groundtruth_artificial_noise_balanced([ground_truth_folder],0.5,64,0.5,noise_level,frame_rate,0.05*30,omission_list=[],permute=0,maximum_traces=5000000,verbose=3,replicas=0,causal_kernel=0)\n"
      ],
      "execution_count": 8,
      "outputs": [
        {
          "output_type": "stream",
          "text": [
            "Preprocessing dataset number 0\n",
            "Resampling neuron 1 from a total of 11 neurons.\n",
            "Resampling neuron 2 from a total of 11 neurons.\n",
            "Resampling neuron 3 from a total of 11 neurons.\n",
            "Resampling neuron 4 from a total of 11 neurons.\n",
            "Resampling neuron 5 from a total of 11 neurons.\n",
            "Resampling neuron 6 from a total of 11 neurons.\n",
            "Resampling neuron 7 from a total of 11 neurons.\n",
            "Resampling neuron 8 from a total of 11 neurons.\n",
            "Resampling neuron 9 from a total of 11 neurons.\n",
            "Resampling neuron 10 from a total of 11 neurons.\n",
            "Resampling neuron 11 from a total of 11 neurons.\n",
            "Reducing ground truth by a factor of approximately 0.\n",
            "Number of neurons in the ground truth: 11\n",
            "Shape of training dataset X: (230361, 64, 1)    Y: (230361, 1)\n"
          ],
          "name": "stdout"
        }
      ]
    },
    {
      "cell_type": "markdown",
      "metadata": {
        "id": "OxyJcpm_TRdG"
      },
      "source": [
        "##5. Infer spike rates from calcium data"
      ]
    },
    {
      "cell_type": "code",
      "metadata": {
        "colab": {
          "base_uri": "https://localhost:8080/"
        },
        "id": "CmMFhk-rTSM0",
        "outputId": "a55790f4-2409-4516-f4ff-0d440c03d2d7"
      },
      "source": [
        "# X are the calcium data\n",
        "\n",
        "spike_rates = cascade.predict( model_name, X[:,32,:].T ,threshold = 1)\n",
        "spike_rates = spike_rates.T"
      ],
      "execution_count": 9,
      "outputs": [
        {
          "output_type": "stream",
          "text": [
            "\n",
            " \n",
            "The selected model was trained on 18 datasets, with 5 ensembles for each noise level, at a sampling rate of 30Hz, with a resampled ground truth that was smoothed with a Gaussian kernel of a standard deviation of 50 milliseconds. \n",
            " \n",
            "\n",
            "Loaded model was trained at frame rate 30 Hz\n",
            "Given argument traces contains 1 neurons and 230361 frames.\n",
            "Noise levels (mean, std; in standard units): 2.03, 0.0\n",
            "\n",
            "Predictions for noise level 2:\n",
            "\t... ensemble 0\n",
            "29/29 [==============================] - 35s 19ms/step\n",
            "\t... ensemble 1\n",
            "29/29 [==============================] - 0s 13ms/step\n",
            "\t... ensemble 2\n",
            "29/29 [==============================] - 0s 12ms/step\n",
            "\t... ensemble 3\n",
            "29/29 [==============================] - 0s 8ms/step\n",
            "\t... ensemble 4\n",
            "29/29 [==============================] - 0s 8ms/step\n",
            "\n",
            "Predictions for noise level 3:\n",
            "\tNo neurons for this noise level\n",
            "\n",
            "Predictions for noise level 4:\n",
            "\tNo neurons for this noise level\n",
            "\n",
            "Predictions for noise level 5:\n",
            "\tNo neurons for this noise level\n",
            "\n",
            "Predictions for noise level 6:\n",
            "\tNo neurons for this noise level\n",
            "\n",
            "Predictions for noise level 7:\n",
            "\tNo neurons for this noise level\n",
            "\n",
            "Predictions for noise level 8:\n",
            "\tNo neurons for this noise level\n",
            "Done\n"
          ],
          "name": "stdout"
        }
      ]
    },
    {
      "cell_type": "markdown",
      "metadata": {
        "id": "ZWWcofY8Tino"
      },
      "source": [
        "##6. Analyse results"
      ]
    },
    {
      "cell_type": "code",
      "metadata": {
        "id": "4vYFy2JETi3R"
      },
      "source": [
        "# Find events in the ground truth that exceed a certain spike rate threshold\n",
        "\n",
        "events = Y>0.5\n",
        "event_indices = np.where(events)[0]\n",
        "event_indices = np.flip(event_indices)\n",
        "\n",
        "for i,index in enumerate(event_indices[:-2]):\n",
        "    \n",
        "    # Elimiate detected events if a event had been detected during the 2 past seconds\n",
        "    if (index-event_indices[i+1] < 60):\n",
        "        \n",
        "        event_indices[i] = 0\n",
        "\n",
        "event_indices = event_indices[event_indices>0]"
      ],
      "execution_count": 10,
      "outputs": []
    },
    {
      "cell_type": "code",
      "metadata": {
        "id": "50CbKW-QUEFw"
      },
      "source": [
        "# Write data (ground truth, predictions, raw dF/F) for time window around events into a matrix\n",
        "\n",
        "nb_per_time_bin = np.int(np.floor(len(event_indices)/3)-1)\n",
        "\n",
        "# Separate events into three bins; each bin is shifted by a different time to generate discrete bouts of activity\n",
        "separation_points = [1,1+nb_per_time_bin,1+2*nb_per_time_bin]\n",
        "\n",
        "duration = 30*6\n",
        "arrays = np.zeros((duration, nb_per_time_bin*3))\n",
        "array_predictions = np.zeros((duration, nb_per_time_bin*3))\n",
        "array_dFF = np.zeros((duration, nb_per_time_bin*3))\n",
        "\n",
        "for i,k in enumerate(np.random.permutation(arrays.shape[1])):\n",
        "    \n",
        "    if i < separation_points[1]:\n",
        "        offset = int(duration/2-0.1*30)\n",
        "    elif i < separation_points[2]:\n",
        "        offset = int(duration/2)\n",
        "    else:\n",
        "        offset = int(duration/2+0.1*30)\n",
        "    \n",
        "    arrays[:,i] = Y[event_indices[k]-offset:event_indices[k]-offset+duration,0]\n",
        "    array_predictions[:,i] = spike_rates[event_indices[k]-offset:event_indices[k]-offset+duration,0]\n",
        "    array_dFF[:,i] = X[event_indices[k]-offset:event_indices[k]-offset+duration,32,0]\n"
      ],
      "execution_count": 38,
      "outputs": []
    },
    {
      "cell_type": "markdown",
      "metadata": {
        "id": "jEonX_e2UhuZ"
      },
      "source": [
        "##7. Plot results of analysis"
      ]
    },
    {
      "cell_type": "code",
      "metadata": {
        "colab": {
          "base_uri": "https://localhost:8080/",
          "height": 391
        },
        "id": "BoQj0-HEUiB3",
        "outputId": "78c244df-23f5-42c8-bdbd-40d005c6a26b"
      },
      "source": [
        "plt.rcParams['figure.figsize'] = (9.0, 6.0)\n",
        "import matplotlib.pyplot as plt\n",
        "\n",
        "plt.figure(31223)\n",
        "plt.subplot(2,1,1)\n",
        "plt.imshow(arrays.T,interpolation=\"none\",aspect='auto',extent=[-3,3,0,array_predictions.shape[1]])\n",
        "plt.subplot(2,1,2)\n",
        "plt.imshow(array_predictions.T,interpolation=\"none\",aspect='auto',extent=[-3,3,0,array_predictions.shape[1]])"
      ],
      "execution_count": 39,
      "outputs": [
        {
          "output_type": "execute_result",
          "data": {
            "text/plain": [
              "<matplotlib.image.AxesImage at 0x7ff697e39810>"
            ]
          },
          "metadata": {
            "tags": []
          },
          "execution_count": 39
        },
        {
          "output_type": "display_data",
          "data": {
            "image/png": "[encoded data removed]",
            "text/plain": [
              "<Figure size 648x432 with 2 Axes>"
            ]
          },
          "metadata": {
            "tags": [],
            "needs_background": "light"
          }
        }
      ]
    },
    {
      "cell_type": "code",
      "metadata": {
        "colab": {
          "base_uri": "https://localhost:8080/",
          "height": 391
        },
        "id": "0xLVaBUjUpMw",
        "outputId": "ce8be029-0847-4b2e-b2c1-767c533ba08f"
      },
      "source": [
        "plt.figure(44)\n",
        "plt.plot(np.mean(array_predictions[:,0:separation_points[1]],axis = 1),'r')\n",
        "plt.plot(np.mean(arrays[:,0:separation_points[1]],axis = 1)-0.5,'k')\n",
        "plt.plot(np.mean(array_predictions[:,separation_points[1]:separation_points[2]],axis = 1),'r')\n",
        "plt.plot(np.mean(arrays[:,separation_points[1]:separation_points[2]]-0.5,axis = 1),'k')\n",
        "plt.plot(np.mean(array_predictions[:,separation_points[2]:-1],axis = 1),'r')\n",
        "plt.plot(np.mean(arrays[:,separation_points[2]:-1]-0.5,axis = 1),'k')"
      ],
      "execution_count": 40,
      "outputs": [
        {
          "output_type": "execute_result",
          "data": {
            "text/plain": [
              "[<matplotlib.lines.Line2D at 0x7ff697c85450>]"
            ]
          },
          "metadata": {
            "tags": []
          },
          "execution_count": 40
        },
        {
          "output_type": "display_data",
          "data": {
            "image/png": "[encoded data removed]",
            "text/plain": [
              "<Figure size 648x432 with 1 Axes>"
            ]
          },
          "metadata": {
            "tags": [],
            "needs_background": "light"
          }
        }
      ]
    },
    {
      "cell_type": "markdown",
      "metadata": {
        "id": "Wa5UUUX2RdCa"
      },
      "source": [
        ""
      ]
    }
  ]
}